{
 "cells": [
  {
   "cell_type": "code",
   "execution_count": 1,
   "metadata": {},
   "outputs": [
    {
     "data": {
      "text/plain": [
       "True"
      ]
     },
     "execution_count": 1,
     "metadata": {},
     "output_type": "execute_result"
    }
   ],
   "source": [
    "from dotenv import load_dotenv\n",
    "load_dotenv()"
   ]
  },
  {
   "cell_type": "code",
   "execution_count": 2,
   "metadata": {},
   "outputs": [],
   "source": [
    "import os\n",
    "from pymongo.mongo_client import MongoClient\n",
    "uri = os.getenv(\"client_uri\")\n",
    "# Create a new client and connect to the server\n",
    "client = MongoClient(uri)"
   ]
  },
  {
   "cell_type": "code",
   "execution_count": 3,
   "metadata": {},
   "outputs": [],
   "source": [
    "database = client[\"youtubecommunity\"]"
   ]
  },
  {
   "cell_type": "code",
   "execution_count": 4,
   "metadata": {},
   "outputs": [],
   "source": [
    "collection = database[\"session\"]"
   ]
  },
  {
   "cell_type": "code",
   "execution_count": 5,
   "metadata": {},
   "outputs": [],
   "source": [
    "data = {\n",
    "    \"coursename\":\"genai\",\n",
    "    \"learner\":\"Deependra\",\n",
    "    \"modeofsession\":\"english\"\n",
    "}"
   ]
  },
  {
   "cell_type": "code",
   "execution_count": 6,
   "metadata": {},
   "outputs": [
    {
     "data": {
      "text/plain": [
       "{'coursename': 'genai', 'learner': 'Deependra', 'modeofsession': 'english'}"
      ]
     },
     "execution_count": 6,
     "metadata": {},
     "output_type": "execute_result"
    }
   ],
   "source": [
    "data"
   ]
  },
  {
   "cell_type": "code",
   "execution_count": 7,
   "metadata": {},
   "outputs": [
    {
     "data": {
      "text/plain": [
       "InsertOneResult(ObjectId('65fce4cde7ff94974e58e684'), acknowledged=True)"
      ]
     },
     "execution_count": 7,
     "metadata": {},
     "output_type": "execute_result"
    }
   ],
   "source": [
    "collection.insert_one(data)"
   ]
  },
  {
   "cell_type": "code",
   "execution_count": 8,
   "metadata": {},
   "outputs": [],
   "source": [
    "all_record = collection.find()"
   ]
  },
  {
   "cell_type": "code",
   "execution_count": 9,
   "metadata": {},
   "outputs": [
    {
     "name": "stdout",
     "output_type": "stream",
     "text": [
      "{'_id': ObjectId('65fb9ec5cb3a8516871e1f2b'), 'coursename': 'genai', 'learner': 'Deependra', 'modeofsession': 'english'}\n",
      "{'_id': ObjectId('65fba0bacb3a8516871e1f2c'), 'coursename': 'genai', 'learner': 'Deependra', 'modeofsession': 'english'}\n",
      "{'_id': ObjectId('65fba0bacb3a8516871e1f2d'), 'coursename': 'mlops', 'learner': 'Deependraverma', 'modeofsession': 'english&Hindi'}\n",
      "{'_id': ObjectId('65fce4cde7ff94974e58e684'), 'coursename': 'genai', 'learner': 'Deependra', 'modeofsession': 'english'}\n"
     ]
    }
   ],
   "source": [
    "for record in all_record:\n",
    "    print(record)"
   ]
  },
  {
   "cell_type": "code",
   "execution_count": 10,
   "metadata": {},
   "outputs": [
    {
     "data": {
      "text/plain": [
       "InsertManyResult([ObjectId('65fce4cee7ff94974e58e685'), ObjectId('65fce4cee7ff94974e58e686')], acknowledged=True)"
      ]
     },
     "execution_count": 10,
     "metadata": {},
     "output_type": "execute_result"
    }
   ],
   "source": [
    "collection.insert_many([\n",
    "{\n",
    "    \"coursename\":\"genai\",\n",
    "    \"learner\":\"Deependra\",\n",
    "    \"modeofsession\":\"english\"\n",
    "},\n",
    "{\n",
    "    \"coursename\":\"mlops\",\n",
    "    \"learner\":\"Deependraverma\",\n",
    "    \"modeofsession\":\"english&Hindi\"\n",
    "}\n",
    "    \n",
    "])"
   ]
  },
  {
   "cell_type": "code",
   "execution_count": 11,
   "metadata": {},
   "outputs": [],
   "source": [
    "import pandas as pd\n",
    "import json"
   ]
  },
  {
   "cell_type": "code",
   "execution_count": 17,
   "metadata": {},
   "outputs": [],
   "source": [
    "class mongodb_operation:\n",
    "    def __init__(self,client_url:str, database_name: str, collection_name:str):\n",
    "        self.client_url = client_url\n",
    "        self.database_name = database_name\n",
    "        self.collection_name = collection_name\n",
    "\n",
    "    \n",
    "    def create_client(self):\n",
    "        client = MongoClient(self.client_url)\n",
    "        return client\n",
    "    \n",
    "    def create_database(self):\n",
    "        client = self.create_client()\n",
    "        database = client[self.database_name]\n",
    "        return database\n",
    "\n",
    "    def create_collection(self, collection=None):\n",
    "        database = self.create_database()\n",
    "        collection = database[self.collection_name]\n",
    "        return collection\n",
    "\n",
    "    def insert_record(self, record:dict,collection_name:str):\n",
    "        if type(record)==list:\n",
    "            for data in record:\n",
    "                if type(data)!= dict:\n",
    "                    raise TypeError(\"The data should be in the dictionary format only\")\n",
    "            collection = self.create_collection(collection_name)\n",
    "            collection.insert_many(record)\n",
    "        elif type(record)==dict:\n",
    "            collection = self.create_collection(collection_name)\n",
    "            collection.insert_one(record)\n",
    "\n",
    "    def bulk_insert(self,datafile:str, collection_name:str=None):\n",
    "        self.path = datafile\n",
    "        if self.path.endswith(\".csv\"):\n",
    "            data = pd.read_csv(self.path,encoding=\"utf-8\")\n",
    "        elif self.path.endswith(\".xlsx\"):\n",
    "            data = pd.read_excel(self.path,encoding=\"utf-8\")\n",
    "        \n",
    "        datajson=json.loads(data.to_json(orient=\"record\"))\n",
    "        collection = self.create_collection()\n",
    "        collection.insert_many(datajson)\n",
    "\n"
   ]
  },
  {
   "cell_type": "code",
   "execution_count": 18,
   "metadata": {},
   "outputs": [],
   "source": [
    "mongo = mongodb_operation(client_url=os.getenv(\"client_uri\"),database_name=\"deep\",collection_name=\"ruchi\")"
   ]
  },
  {
   "cell_type": "code",
   "execution_count": 19,
   "metadata": {},
   "outputs": [],
   "source": [
    "mongo.insert_record({\"name\":\"Deep\", \"Age\":31,\"Occupation\":\"Data Scientist\"},collection_name=\"ruchi\")"
   ]
  },
  {
   "cell_type": "code",
   "execution_count": null,
   "metadata": {},
   "outputs": [],
   "source": []
  }
 ],
 "metadata": {
  "kernelspec": {
   "display_name": "Python 3",
   "language": "python",
   "name": "python3"
  },
  "language_info": {
   "codemirror_mode": {
    "name": "ipython",
    "version": 3
   },
   "file_extension": ".py",
   "mimetype": "text/x-python",
   "name": "python",
   "nbconvert_exporter": "python",
   "pygments_lexer": "ipython3",
   "version": "3.8.18"
  }
 },
 "nbformat": 4,
 "nbformat_minor": 2
}
